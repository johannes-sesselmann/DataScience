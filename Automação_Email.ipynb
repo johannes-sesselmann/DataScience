{
  "nbformat": 4,
  "nbformat_minor": 0,
  "metadata": {
    "colab": {
      "name": "Automação Email.ipynb",
      "provenance": [],
      "collapsed_sections": []
    },
    "kernelspec": {
      "name": "python3",
      "display_name": "Python 3"
    },
    "language_info": {
      "name": "python"
    }
  },
  "cells": [
    {
      "cell_type": "markdown",
      "source": [
        "# **Projeto de Automação de E-mail**\n",
        "\n",
        "  O que será feito:\n",
        "\n",
        "---\n",
        "\n",
        "\n",
        "    - Pegar uma planilha excel com os gastos.\n",
        "    - Interpretar a planilha e analisar os gastos totais de cada um os clientes\n",
        "    - Enviar um e-mail automático pelo python a partir de um servidor"
      ],
      "metadata": {
        "id": "q8XduWaKP6d5"
      }
    },
    {
      "cell_type": "code",
      "source": [
        "# Função para ler os contatos de um determinado arquivo de contato e retornar um\n",
        "# lista de nomes e endereços de e-mail\n",
        "def get_contacts(filename):\n",
        "    names = []\n",
        "    emails = []\n",
        "    with open(filename, mode='r', encoding='utf-8') as contacts_file:\n",
        "        for a_contact in contacts_file:\n",
        "            names.append(a_contact.split()[0])\n",
        "            emails.append(a_contact.split()[1])\n",
        "    return names, emails"
      ],
      "metadata": {
        "id": "vy8Z_jwRuVcp"
      },
      "execution_count": 222,
      "outputs": []
    },
    {
      "cell_type": "code",
      "source": [
        "from string import Template\n",
        "\n",
        "def read_template(filename):\n",
        "    with open(filename, 'r', encoding='utf-8') as template_file:\n",
        "        template_file_content = template_file.read()\n",
        "    return Template(template_file_content)"
      ],
      "metadata": {
        "id": "2Ek3kiR_xb3A"
      },
      "execution_count": 223,
      "outputs": []
    },
    {
      "cell_type": "code",
      "source": [
        "import smtplib"
      ],
      "metadata": {
        "id": "y_WS43l_xhcS"
      },
      "execution_count": 241,
      "outputs": []
    },
    {
      "cell_type": "code",
      "source": [
        "from google.colab import drive\n",
        "drive.mount('/content/drive')"
      ],
      "metadata": {
        "colab": {
          "base_uri": "https://localhost:8080/"
        },
        "id": "mvdaEuJM064V",
        "outputId": "ebfd0856-2426-4ff3-9dae-7a9482ba83de"
      },
      "execution_count": 238,
      "outputs": [
        {
          "output_type": "stream",
          "name": "stdout",
          "text": [
            "Drive already mounted at /content/drive; to attempt to forcibly remount, call drive.mount(\"/content/drive\", force_remount=True).\n"
          ]
        }
      ]
    },
    {
      "cell_type": "code",
      "source": [
        "import numpy as np\n",
        "import pandas as pd"
      ],
      "metadata": {
        "id": "3NusKV2hGU8y"
      },
      "execution_count": 226,
      "outputs": []
    },
    {
      "cell_type": "code",
      "source": [
        "df_1 = pd.read_excel('/content/drive/My Drive/vendas/Vendas_case.xlsx')"
      ],
      "metadata": {
        "id": "bM3fRI68Jqbf"
      },
      "execution_count": 227,
      "outputs": []
    },
    {
      "cell_type": "code",
      "source": [
        "df_1.head() #dataframe que importa a planilha do projeto"
      ],
      "metadata": {
        "colab": {
          "base_uri": "https://localhost:8080/",
          "height": 206
        },
        "id": "mB567CIoC_nU",
        "outputId": "ff3bbbad-83cb-4eaa-dbe4-14f111d707c7"
      },
      "execution_count": 228,
      "outputs": [
        {
          "output_type": "execute_result",
          "data": {
            "text/plain": [
              "     Cliente plataforma   user-id  comanda-id status-pedido  \\\n",
              "0  Cliente 1        iOS  110769.0    237628.0      Aprovado   \n",
              "1  Cliente 1    Android  229126.0    237629.0      Aprovado   \n",
              "2  Cliente 2        iOS  232853.0    237638.0      Aprovado   \n",
              "3  Cliente 1    Android  232846.0    237639.0      Aprovado   \n",
              "4  Cliente 1    Android   98014.0    237641.0      Aprovado   \n",
              "\n",
              "                 data modalidade  valor-pedido  valor-desconto  Valor-Pago  \\\n",
              "0 2020-01-29 20:04:49   Delivery         23.40            0.00       23.40   \n",
              "1 2020-01-29 20:10:15   Delivery         50.90            0.00       50.90   \n",
              "2 2020-01-29 20:41:30   Delivery         29.80           -2.98       26.82   \n",
              "3 2020-01-29 20:42:49  ComerAqui         73.77            0.00       73.77   \n",
              "4 2020-01-29 21:12:26   Delivery         27.30            0.00       27.30   \n",
              "\n",
              "   forma-de-pagamento  \n",
              "0         Crédito-Elo  \n",
              "1  Crédito-MasterCard  \n",
              "2  Crédito-MasterCard  \n",
              "3        Crédito-Visa  \n",
              "4  Crédito-MasterCard  "
            ],
            "text/html": [
              "\n",
              "  <div id=\"df-8fda237d-0901-4345-bf63-437076416d56\">\n",
              "    <div class=\"colab-df-container\">\n",
              "      <div>\n",
              "<style scoped>\n",
              "    .dataframe tbody tr th:only-of-type {\n",
              "        vertical-align: middle;\n",
              "    }\n",
              "\n",
              "    .dataframe tbody tr th {\n",
              "        vertical-align: top;\n",
              "    }\n",
              "\n",
              "    .dataframe thead th {\n",
              "        text-align: right;\n",
              "    }\n",
              "</style>\n",
              "<table border=\"1\" class=\"dataframe\">\n",
              "  <thead>\n",
              "    <tr style=\"text-align: right;\">\n",
              "      <th></th>\n",
              "      <th>Cliente</th>\n",
              "      <th>plataforma</th>\n",
              "      <th>user-id</th>\n",
              "      <th>comanda-id</th>\n",
              "      <th>status-pedido</th>\n",
              "      <th>data</th>\n",
              "      <th>modalidade</th>\n",
              "      <th>valor-pedido</th>\n",
              "      <th>valor-desconto</th>\n",
              "      <th>Valor-Pago</th>\n",
              "      <th>forma-de-pagamento</th>\n",
              "    </tr>\n",
              "  </thead>\n",
              "  <tbody>\n",
              "    <tr>\n",
              "      <th>0</th>\n",
              "      <td>Cliente 1</td>\n",
              "      <td>iOS</td>\n",
              "      <td>110769.0</td>\n",
              "      <td>237628.0</td>\n",
              "      <td>Aprovado</td>\n",
              "      <td>2020-01-29 20:04:49</td>\n",
              "      <td>Delivery</td>\n",
              "      <td>23.40</td>\n",
              "      <td>0.00</td>\n",
              "      <td>23.40</td>\n",
              "      <td>Crédito-Elo</td>\n",
              "    </tr>\n",
              "    <tr>\n",
              "      <th>1</th>\n",
              "      <td>Cliente 1</td>\n",
              "      <td>Android</td>\n",
              "      <td>229126.0</td>\n",
              "      <td>237629.0</td>\n",
              "      <td>Aprovado</td>\n",
              "      <td>2020-01-29 20:10:15</td>\n",
              "      <td>Delivery</td>\n",
              "      <td>50.90</td>\n",
              "      <td>0.00</td>\n",
              "      <td>50.90</td>\n",
              "      <td>Crédito-MasterCard</td>\n",
              "    </tr>\n",
              "    <tr>\n",
              "      <th>2</th>\n",
              "      <td>Cliente 2</td>\n",
              "      <td>iOS</td>\n",
              "      <td>232853.0</td>\n",
              "      <td>237638.0</td>\n",
              "      <td>Aprovado</td>\n",
              "      <td>2020-01-29 20:41:30</td>\n",
              "      <td>Delivery</td>\n",
              "      <td>29.80</td>\n",
              "      <td>-2.98</td>\n",
              "      <td>26.82</td>\n",
              "      <td>Crédito-MasterCard</td>\n",
              "    </tr>\n",
              "    <tr>\n",
              "      <th>3</th>\n",
              "      <td>Cliente 1</td>\n",
              "      <td>Android</td>\n",
              "      <td>232846.0</td>\n",
              "      <td>237639.0</td>\n",
              "      <td>Aprovado</td>\n",
              "      <td>2020-01-29 20:42:49</td>\n",
              "      <td>ComerAqui</td>\n",
              "      <td>73.77</td>\n",
              "      <td>0.00</td>\n",
              "      <td>73.77</td>\n",
              "      <td>Crédito-Visa</td>\n",
              "    </tr>\n",
              "    <tr>\n",
              "      <th>4</th>\n",
              "      <td>Cliente 1</td>\n",
              "      <td>Android</td>\n",
              "      <td>98014.0</td>\n",
              "      <td>237641.0</td>\n",
              "      <td>Aprovado</td>\n",
              "      <td>2020-01-29 21:12:26</td>\n",
              "      <td>Delivery</td>\n",
              "      <td>27.30</td>\n",
              "      <td>0.00</td>\n",
              "      <td>27.30</td>\n",
              "      <td>Crédito-MasterCard</td>\n",
              "    </tr>\n",
              "  </tbody>\n",
              "</table>\n",
              "</div>\n",
              "      <button class=\"colab-df-convert\" onclick=\"convertToInteractive('df-8fda237d-0901-4345-bf63-437076416d56')\"\n",
              "              title=\"Convert this dataframe to an interactive table.\"\n",
              "              style=\"display:none;\">\n",
              "        \n",
              "  <svg xmlns=\"http://www.w3.org/2000/svg\" height=\"24px\"viewBox=\"0 0 24 24\"\n",
              "       width=\"24px\">\n",
              "    <path d=\"M0 0h24v24H0V0z\" fill=\"none\"/>\n",
              "    <path d=\"M18.56 5.44l.94 2.06.94-2.06 2.06-.94-2.06-.94-.94-2.06-.94 2.06-2.06.94zm-11 1L8.5 8.5l.94-2.06 2.06-.94-2.06-.94L8.5 2.5l-.94 2.06-2.06.94zm10 10l.94 2.06.94-2.06 2.06-.94-2.06-.94-.94-2.06-.94 2.06-2.06.94z\"/><path d=\"M17.41 7.96l-1.37-1.37c-.4-.4-.92-.59-1.43-.59-.52 0-1.04.2-1.43.59L10.3 9.45l-7.72 7.72c-.78.78-.78 2.05 0 2.83L4 21.41c.39.39.9.59 1.41.59.51 0 1.02-.2 1.41-.59l7.78-7.78 2.81-2.81c.8-.78.8-2.07 0-2.86zM5.41 20L4 18.59l7.72-7.72 1.47 1.35L5.41 20z\"/>\n",
              "  </svg>\n",
              "      </button>\n",
              "      \n",
              "  <style>\n",
              "    .colab-df-container {\n",
              "      display:flex;\n",
              "      flex-wrap:wrap;\n",
              "      gap: 12px;\n",
              "    }\n",
              "\n",
              "    .colab-df-convert {\n",
              "      background-color: #E8F0FE;\n",
              "      border: none;\n",
              "      border-radius: 50%;\n",
              "      cursor: pointer;\n",
              "      display: none;\n",
              "      fill: #1967D2;\n",
              "      height: 32px;\n",
              "      padding: 0 0 0 0;\n",
              "      width: 32px;\n",
              "    }\n",
              "\n",
              "    .colab-df-convert:hover {\n",
              "      background-color: #E2EBFA;\n",
              "      box-shadow: 0px 1px 2px rgba(60, 64, 67, 0.3), 0px 1px 3px 1px rgba(60, 64, 67, 0.15);\n",
              "      fill: #174EA6;\n",
              "    }\n",
              "\n",
              "    [theme=dark] .colab-df-convert {\n",
              "      background-color: #3B4455;\n",
              "      fill: #D2E3FC;\n",
              "    }\n",
              "\n",
              "    [theme=dark] .colab-df-convert:hover {\n",
              "      background-color: #434B5C;\n",
              "      box-shadow: 0px 1px 3px 1px rgba(0, 0, 0, 0.15);\n",
              "      filter: drop-shadow(0px 1px 2px rgba(0, 0, 0, 0.3));\n",
              "      fill: #FFFFFF;\n",
              "    }\n",
              "  </style>\n",
              "\n",
              "      <script>\n",
              "        const buttonEl =\n",
              "          document.querySelector('#df-8fda237d-0901-4345-bf63-437076416d56 button.colab-df-convert');\n",
              "        buttonEl.style.display =\n",
              "          google.colab.kernel.accessAllowed ? 'block' : 'none';\n",
              "\n",
              "        async function convertToInteractive(key) {\n",
              "          const element = document.querySelector('#df-8fda237d-0901-4345-bf63-437076416d56');\n",
              "          const dataTable =\n",
              "            await google.colab.kernel.invokeFunction('convertToInteractive',\n",
              "                                                     [key], {});\n",
              "          if (!dataTable) return;\n",
              "\n",
              "          const docLinkHtml = 'Like what you see? Visit the ' +\n",
              "            '<a target=\"_blank\" href=https://colab.research.google.com/notebooks/data_table.ipynb>data table notebook</a>'\n",
              "            + ' to learn more about interactive tables.';\n",
              "          element.innerHTML = '';\n",
              "          dataTable['output_type'] = 'display_data';\n",
              "          await google.colab.output.renderOutput(dataTable, element);\n",
              "          const docLink = document.createElement('div');\n",
              "          docLink.innerHTML = docLinkHtml;\n",
              "          element.appendChild(docLink);\n",
              "        }\n",
              "      </script>\n",
              "    </div>\n",
              "  </div>\n",
              "  "
            ]
          },
          "metadata": {},
          "execution_count": 228
        }
      ]
    },
    {
      "cell_type": "code",
      "source": [
        "df_1['Cliente'].isnull().sum() # nenhum dado da planilha parece ser 0 ou outlier"
      ],
      "metadata": {
        "colab": {
          "base_uri": "https://localhost:8080/"
        },
        "id": "z1Gea94uLPeg",
        "outputId": "f7ed324c-fda7-48bf-979a-d130a7727c2f"
      },
      "execution_count": 229,
      "outputs": [
        {
          "output_type": "execute_result",
          "data": {
            "text/plain": [
              "0"
            ]
          },
          "metadata": {},
          "execution_count": 229
        }
      ]
    },
    {
      "cell_type": "code",
      "source": [
        "data =[['Cliente 1', 0.0]]\n",
        "df = pd.DataFrame(data,columns=['Nome', 'Total Gasto'])\n",
        "df.head()  # criação de um esqueleto do dataframe que será futuramente usado para enviar os emails"
      ],
      "metadata": {
        "colab": {
          "base_uri": "https://localhost:8080/",
          "height": 81
        },
        "id": "7MDFd4NkO2MA",
        "outputId": "7c7eaebc-85e7-4d1a-99f0-f9fbc866f790"
      },
      "execution_count": 230,
      "outputs": [
        {
          "output_type": "execute_result",
          "data": {
            "text/plain": [
              "        Nome  Total Gasto\n",
              "0  Cliente 1          0.0"
            ],
            "text/html": [
              "\n",
              "  <div id=\"df-e5e04173-e9d5-46a2-bbba-39f433fb0e4d\">\n",
              "    <div class=\"colab-df-container\">\n",
              "      <div>\n",
              "<style scoped>\n",
              "    .dataframe tbody tr th:only-of-type {\n",
              "        vertical-align: middle;\n",
              "    }\n",
              "\n",
              "    .dataframe tbody tr th {\n",
              "        vertical-align: top;\n",
              "    }\n",
              "\n",
              "    .dataframe thead th {\n",
              "        text-align: right;\n",
              "    }\n",
              "</style>\n",
              "<table border=\"1\" class=\"dataframe\">\n",
              "  <thead>\n",
              "    <tr style=\"text-align: right;\">\n",
              "      <th></th>\n",
              "      <th>Nome</th>\n",
              "      <th>Total Gasto</th>\n",
              "    </tr>\n",
              "  </thead>\n",
              "  <tbody>\n",
              "    <tr>\n",
              "      <th>0</th>\n",
              "      <td>Cliente 1</td>\n",
              "      <td>0.0</td>\n",
              "    </tr>\n",
              "  </tbody>\n",
              "</table>\n",
              "</div>\n",
              "      <button class=\"colab-df-convert\" onclick=\"convertToInteractive('df-e5e04173-e9d5-46a2-bbba-39f433fb0e4d')\"\n",
              "              title=\"Convert this dataframe to an interactive table.\"\n",
              "              style=\"display:none;\">\n",
              "        \n",
              "  <svg xmlns=\"http://www.w3.org/2000/svg\" height=\"24px\"viewBox=\"0 0 24 24\"\n",
              "       width=\"24px\">\n",
              "    <path d=\"M0 0h24v24H0V0z\" fill=\"none\"/>\n",
              "    <path d=\"M18.56 5.44l.94 2.06.94-2.06 2.06-.94-2.06-.94-.94-2.06-.94 2.06-2.06.94zm-11 1L8.5 8.5l.94-2.06 2.06-.94-2.06-.94L8.5 2.5l-.94 2.06-2.06.94zm10 10l.94 2.06.94-2.06 2.06-.94-2.06-.94-.94-2.06-.94 2.06-2.06.94z\"/><path d=\"M17.41 7.96l-1.37-1.37c-.4-.4-.92-.59-1.43-.59-.52 0-1.04.2-1.43.59L10.3 9.45l-7.72 7.72c-.78.78-.78 2.05 0 2.83L4 21.41c.39.39.9.59 1.41.59.51 0 1.02-.2 1.41-.59l7.78-7.78 2.81-2.81c.8-.78.8-2.07 0-2.86zM5.41 20L4 18.59l7.72-7.72 1.47 1.35L5.41 20z\"/>\n",
              "  </svg>\n",
              "      </button>\n",
              "      \n",
              "  <style>\n",
              "    .colab-df-container {\n",
              "      display:flex;\n",
              "      flex-wrap:wrap;\n",
              "      gap: 12px;\n",
              "    }\n",
              "\n",
              "    .colab-df-convert {\n",
              "      background-color: #E8F0FE;\n",
              "      border: none;\n",
              "      border-radius: 50%;\n",
              "      cursor: pointer;\n",
              "      display: none;\n",
              "      fill: #1967D2;\n",
              "      height: 32px;\n",
              "      padding: 0 0 0 0;\n",
              "      width: 32px;\n",
              "    }\n",
              "\n",
              "    .colab-df-convert:hover {\n",
              "      background-color: #E2EBFA;\n",
              "      box-shadow: 0px 1px 2px rgba(60, 64, 67, 0.3), 0px 1px 3px 1px rgba(60, 64, 67, 0.15);\n",
              "      fill: #174EA6;\n",
              "    }\n",
              "\n",
              "    [theme=dark] .colab-df-convert {\n",
              "      background-color: #3B4455;\n",
              "      fill: #D2E3FC;\n",
              "    }\n",
              "\n",
              "    [theme=dark] .colab-df-convert:hover {\n",
              "      background-color: #434B5C;\n",
              "      box-shadow: 0px 1px 3px 1px rgba(0, 0, 0, 0.15);\n",
              "      filter: drop-shadow(0px 1px 2px rgba(0, 0, 0, 0.3));\n",
              "      fill: #FFFFFF;\n",
              "    }\n",
              "  </style>\n",
              "\n",
              "      <script>\n",
              "        const buttonEl =\n",
              "          document.querySelector('#df-e5e04173-e9d5-46a2-bbba-39f433fb0e4d button.colab-df-convert');\n",
              "        buttonEl.style.display =\n",
              "          google.colab.kernel.accessAllowed ? 'block' : 'none';\n",
              "\n",
              "        async function convertToInteractive(key) {\n",
              "          const element = document.querySelector('#df-e5e04173-e9d5-46a2-bbba-39f433fb0e4d');\n",
              "          const dataTable =\n",
              "            await google.colab.kernel.invokeFunction('convertToInteractive',\n",
              "                                                     [key], {});\n",
              "          if (!dataTable) return;\n",
              "\n",
              "          const docLinkHtml = 'Like what you see? Visit the ' +\n",
              "            '<a target=\"_blank\" href=https://colab.research.google.com/notebooks/data_table.ipynb>data table notebook</a>'\n",
              "            + ' to learn more about interactive tables.';\n",
              "          element.innerHTML = '';\n",
              "          dataTable['output_type'] = 'display_data';\n",
              "          await google.colab.output.renderOutput(dataTable, element);\n",
              "          const docLink = document.createElement('div');\n",
              "          docLink.innerHTML = docLinkHtml;\n",
              "          element.appendChild(docLink);\n",
              "        }\n",
              "      </script>\n",
              "    </div>\n",
              "  </div>\n",
              "  "
            ]
          },
          "metadata": {},
          "execution_count": 230
        }
      ]
    },
    {
      "cell_type": "code",
      "source": [
        "def sum_lista(dataframe): # essa função interpreta a planilha do projeto e joga no dataframe que será enviado no email\n",
        "  i = 0\n",
        "  k = 1\n",
        "  for index in df_1['Cliente']:\n",
        "    \n",
        "    aux = df.shape[0]\n",
        "\n",
        "    for j in range(aux):\n",
        "      bool = 0\n",
        "      if index in df['Nome'][j]: #se o nome já está contido na planilha -> soma no total gasto\n",
        "        df['Total Gasto'][j] += df_1['Valor-Pago'][i]\n",
        "        i += 1\n",
        "        bool = 1\n",
        "        break\n",
        "\n",
        "    if bool == 0:\n",
        "      df.loc[k] = [index, df_1['Valor-Pago'][i]] #se o nome não está contido na planilha -> cria uma nova linha\n",
        "      k += 1\n",
        "      i += 1      "
      ],
      "metadata": {
        "id": "FyMsrbbbNHkb"
      },
      "execution_count": 231,
      "outputs": []
    },
    {
      "cell_type": "code",
      "source": [
        "sum_lista(df_1) #chamada da função"
      ],
      "metadata": {
        "colab": {
          "base_uri": "https://localhost:8080/"
        },
        "id": "mEQ57XNjN9Xp",
        "outputId": "0a614681-aad0-480b-e8ba-ceb61def7dfa"
      },
      "execution_count": 232,
      "outputs": [
        {
          "output_type": "stream",
          "name": "stderr",
          "text": [
            "/usr/local/lib/python3.7/dist-packages/ipykernel_launcher.py:11: SettingWithCopyWarning: \n",
            "A value is trying to be set on a copy of a slice from a DataFrame\n",
            "\n",
            "See the caveats in the documentation: https://pandas.pydata.org/pandas-docs/stable/user_guide/indexing.html#returning-a-view-versus-a-copy\n",
            "  # This is added back by InteractiveShellApp.init_path()\n"
          ]
        }
      ]
    },
    {
      "cell_type": "code",
      "source": [
        "df.head() #planilha que será usada para enviar os emails pronta"
      ],
      "metadata": {
        "colab": {
          "base_uri": "https://localhost:8080/",
          "height": 206
        },
        "id": "QkE6RPB5uMuL",
        "outputId": "06cf9fd0-2a0e-483b-adf4-78b9868ba044"
      },
      "execution_count": 234,
      "outputs": [
        {
          "output_type": "execute_result",
          "data": {
            "text/plain": [
              "        Nome   Total Gasto\n",
              "0  Cliente 1  2.470748e+06\n",
              "1  Cliente 2  4.984738e+04\n",
              "2  Cliente 3  8.598816e+05\n",
              "3  Cliente 4  3.343974e+06\n",
              "4  Cliente 5  3.543673e+05"
            ],
            "text/html": [
              "\n",
              "  <div id=\"df-5cd10f43-c44c-4a27-8079-88ebe1a395d3\">\n",
              "    <div class=\"colab-df-container\">\n",
              "      <div>\n",
              "<style scoped>\n",
              "    .dataframe tbody tr th:only-of-type {\n",
              "        vertical-align: middle;\n",
              "    }\n",
              "\n",
              "    .dataframe tbody tr th {\n",
              "        vertical-align: top;\n",
              "    }\n",
              "\n",
              "    .dataframe thead th {\n",
              "        text-align: right;\n",
              "    }\n",
              "</style>\n",
              "<table border=\"1\" class=\"dataframe\">\n",
              "  <thead>\n",
              "    <tr style=\"text-align: right;\">\n",
              "      <th></th>\n",
              "      <th>Nome</th>\n",
              "      <th>Total Gasto</th>\n",
              "    </tr>\n",
              "  </thead>\n",
              "  <tbody>\n",
              "    <tr>\n",
              "      <th>0</th>\n",
              "      <td>Cliente 1</td>\n",
              "      <td>2.470748e+06</td>\n",
              "    </tr>\n",
              "    <tr>\n",
              "      <th>1</th>\n",
              "      <td>Cliente 2</td>\n",
              "      <td>4.984738e+04</td>\n",
              "    </tr>\n",
              "    <tr>\n",
              "      <th>2</th>\n",
              "      <td>Cliente 3</td>\n",
              "      <td>8.598816e+05</td>\n",
              "    </tr>\n",
              "    <tr>\n",
              "      <th>3</th>\n",
              "      <td>Cliente 4</td>\n",
              "      <td>3.343974e+06</td>\n",
              "    </tr>\n",
              "    <tr>\n",
              "      <th>4</th>\n",
              "      <td>Cliente 5</td>\n",
              "      <td>3.543673e+05</td>\n",
              "    </tr>\n",
              "  </tbody>\n",
              "</table>\n",
              "</div>\n",
              "      <button class=\"colab-df-convert\" onclick=\"convertToInteractive('df-5cd10f43-c44c-4a27-8079-88ebe1a395d3')\"\n",
              "              title=\"Convert this dataframe to an interactive table.\"\n",
              "              style=\"display:none;\">\n",
              "        \n",
              "  <svg xmlns=\"http://www.w3.org/2000/svg\" height=\"24px\"viewBox=\"0 0 24 24\"\n",
              "       width=\"24px\">\n",
              "    <path d=\"M0 0h24v24H0V0z\" fill=\"none\"/>\n",
              "    <path d=\"M18.56 5.44l.94 2.06.94-2.06 2.06-.94-2.06-.94-.94-2.06-.94 2.06-2.06.94zm-11 1L8.5 8.5l.94-2.06 2.06-.94-2.06-.94L8.5 2.5l-.94 2.06-2.06.94zm10 10l.94 2.06.94-2.06 2.06-.94-2.06-.94-.94-2.06-.94 2.06-2.06.94z\"/><path d=\"M17.41 7.96l-1.37-1.37c-.4-.4-.92-.59-1.43-.59-.52 0-1.04.2-1.43.59L10.3 9.45l-7.72 7.72c-.78.78-.78 2.05 0 2.83L4 21.41c.39.39.9.59 1.41.59.51 0 1.02-.2 1.41-.59l7.78-7.78 2.81-2.81c.8-.78.8-2.07 0-2.86zM5.41 20L4 18.59l7.72-7.72 1.47 1.35L5.41 20z\"/>\n",
              "  </svg>\n",
              "      </button>\n",
              "      \n",
              "  <style>\n",
              "    .colab-df-container {\n",
              "      display:flex;\n",
              "      flex-wrap:wrap;\n",
              "      gap: 12px;\n",
              "    }\n",
              "\n",
              "    .colab-df-convert {\n",
              "      background-color: #E8F0FE;\n",
              "      border: none;\n",
              "      border-radius: 50%;\n",
              "      cursor: pointer;\n",
              "      display: none;\n",
              "      fill: #1967D2;\n",
              "      height: 32px;\n",
              "      padding: 0 0 0 0;\n",
              "      width: 32px;\n",
              "    }\n",
              "\n",
              "    .colab-df-convert:hover {\n",
              "      background-color: #E2EBFA;\n",
              "      box-shadow: 0px 1px 2px rgba(60, 64, 67, 0.3), 0px 1px 3px 1px rgba(60, 64, 67, 0.15);\n",
              "      fill: #174EA6;\n",
              "    }\n",
              "\n",
              "    [theme=dark] .colab-df-convert {\n",
              "      background-color: #3B4455;\n",
              "      fill: #D2E3FC;\n",
              "    }\n",
              "\n",
              "    [theme=dark] .colab-df-convert:hover {\n",
              "      background-color: #434B5C;\n",
              "      box-shadow: 0px 1px 3px 1px rgba(0, 0, 0, 0.15);\n",
              "      filter: drop-shadow(0px 1px 2px rgba(0, 0, 0, 0.3));\n",
              "      fill: #FFFFFF;\n",
              "    }\n",
              "  </style>\n",
              "\n",
              "      <script>\n",
              "        const buttonEl =\n",
              "          document.querySelector('#df-5cd10f43-c44c-4a27-8079-88ebe1a395d3 button.colab-df-convert');\n",
              "        buttonEl.style.display =\n",
              "          google.colab.kernel.accessAllowed ? 'block' : 'none';\n",
              "\n",
              "        async function convertToInteractive(key) {\n",
              "          const element = document.querySelector('#df-5cd10f43-c44c-4a27-8079-88ebe1a395d3');\n",
              "          const dataTable =\n",
              "            await google.colab.kernel.invokeFunction('convertToInteractive',\n",
              "                                                     [key], {});\n",
              "          if (!dataTable) return;\n",
              "\n",
              "          const docLinkHtml = 'Like what you see? Visit the ' +\n",
              "            '<a target=\"_blank\" href=https://colab.research.google.com/notebooks/data_table.ipynb>data table notebook</a>'\n",
              "            + ' to learn more about interactive tables.';\n",
              "          element.innerHTML = '';\n",
              "          dataTable['output_type'] = 'display_data';\n",
              "          await google.colab.output.renderOutput(dataTable, element);\n",
              "          const docLink = document.createElement('div');\n",
              "          docLink.innerHTML = docLinkHtml;\n",
              "          element.appendChild(docLink);\n",
              "        }\n",
              "      </script>\n",
              "    </div>\n",
              "  </div>\n",
              "  "
            ]
          },
          "metadata": {},
          "execution_count": 234
        }
      ]
    },
    {
      "cell_type": "code",
      "source": [
        "names, emails = get_contacts('/content/drive/My Drive/vendas/mycontacts.txt')  # lê contatos\n",
        "message_template = read_template('/content/drive/My Drive/vendas/messages.txt')"
      ],
      "metadata": {
        "id": "LJ5FxVRxzSin"
      },
      "execution_count": 239,
      "outputs": []
    },
    {
      "cell_type": "code",
      "source": [
        "s = smtplib.SMTP('smtp.gmail.com') # entra no servidor smt\n",
        "s.starttls()\n",
        "s.login('ehoradejogar@gmail.com', 'shwvafmcilqeyabe')"
      ],
      "metadata": {
        "colab": {
          "base_uri": "https://localhost:8080/"
        },
        "id": "AUXnLk583xNd",
        "outputId": "5636707d-d158-43b1-a7c2-cbc68489594a"
      },
      "execution_count": 236,
      "outputs": [
        {
          "output_type": "execute_result",
          "data": {
            "text/plain": [
              "(235, b'2.7.0 Accepted')"
            ]
          },
          "metadata": {},
          "execution_count": 236
        }
      ]
    },
    {
      "cell_type": "code",
      "source": [
        "# importa pacotes necessários\n",
        "from email.mime.multipart import MIMEMultipart\n",
        "from email.mime.text import MIMEText\n",
        "\n",
        "# para cada contato, enviar o email:\n",
        "for name, email in zip(names, emails):\n",
        "    msg = MIMEMultipart()       # cria a mensagem\n",
        "\n",
        "    # adiciona o nome da pessoa ao modelo de mensagem\n",
        "    message = message_template.substitute(PERSON_NAME=name.title(), PERSON_EMAIL=email.title())\n",
        "\n",
        "    # parametros necessários para mandar a mensagem\n",
        "    msg['From']= 'ehoradejogar@gmail.com'\n",
        "    msg['To']= 'johannesbms1@gmail.com'\n",
        "    msg['Subject']= \"Conjunto de Gastos\"\n",
        "\n",
        "    # adiciona o corpo da mensagem\n",
        "    msg.attach(MIMEText(message, 'plain'))\n",
        "\n",
        "    # enviar a mensagem através do servidor configurado anteriormente\n",
        "    s.send_message(msg)\n",
        "    \n",
        "    del msg"
      ],
      "metadata": {
        "id": "MXQbiQO02hqg"
      },
      "execution_count": 240,
      "outputs": []
    },
    {
      "cell_type": "markdown",
      "source": [
        "**Resultado Final: Sucesso!**\n",
        "\n",
        "---\n",
        "\n",
        "\n",
        "\n",
        "![image.png](data:image/png;base64,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)"
      ],
      "metadata": {
        "id": "7jJJtoU0TnC8"
      }
    }
  ]
}