{
  "nbformat": 4,
  "nbformat_minor": 0,
  "metadata": {
    "colab": {
      "name": "Titanic.ipynb",
      "provenance": [],
      "collapsed_sections": []
    },
    "kernelspec": {
      "name": "python3",
      "display_name": "Python 3"
    },
    "language_info": {
      "name": "python"
    }
  },
  "cells": [
    {
      "cell_type": "markdown",
      "source": [
        "# **Trabalho desenvolvido por**:   *Grupo Mecdata*\n",
        "\n",
        "\n",
        "Paulo Yoshio Kuga\n",
        "\n",
        "Antony Pavarin\n",
        "\n",
        "Johannes Sesselmann\n",
        "\n",
        "---\n",
        "\n",
        "\n",
        "*Unicamp 11/12/2021*"
      ],
      "metadata": {
        "id": "bQs1ZfhyVntx"
      }
    },
    {
      "cell_type": "code",
      "source": [
        "import matplotlib.pyplot as plt\n",
        "import matplotlib\n",
        "import numpy as np\n",
        "import pandas as pd\n",
        "import seaborn as sns\n",
        "\n",
        "from sklearn.ensemble import RandomForestRegressor\n",
        "from sklearn.metrics import mean_absolute_error\n",
        "from sklearn.ensemble import RandomForestClassifier\n",
        "from sklearn.metrics import accuracy_score\n"
      ],
      "metadata": {
        "id": "DZbF-cOoGY6K"
      },
      "execution_count": null,
      "outputs": []
    },
    {
      "cell_type": "code",
      "source": [
        "from google.colab import drive\n",
        "drive.mount('/content/drive')"
      ],
      "metadata": {
        "colab": {
          "base_uri": "https://localhost:8080/"
        },
        "id": "xOYs38G0GclH",
        "outputId": "7aaaef47-9b1f-4654-8da6-bd5c7b166719"
      },
      "execution_count": null,
      "outputs": [
        {
          "output_type": "stream",
          "name": "stdout",
          "text": [
            "Drive already mounted at /content/drive; to attempt to forcibly remount, call drive.mount(\"/content/drive\", force_remount=True).\n"
          ]
        }
      ]
    },
    {
      "cell_type": "markdown",
      "source": [
        "*O Treino tem as opções se sobreviveu ou não, vamos usar ele para alimentar nosso modelo:*"
      ],
      "metadata": {
        "id": "WanO5Y2WQd8r"
      }
    },
    {
      "cell_type": "code",
      "execution_count": null,
      "metadata": {
        "id": "ZBDushaXE74z",
        "outputId": "e33a3d7d-23de-41ab-f84a-1e8412631425",
        "colab": {
          "base_uri": "https://localhost:8080/",
          "height": 206
        }
      },
      "outputs": [
        {
          "output_type": "execute_result",
          "data": {
            "text/html": [
              "\n",
              "  <div id=\"df-5aaf6272-1492-4329-a87d-fdaac8356873\">\n",
              "    <div class=\"colab-df-container\">\n",
              "      <div>\n",
              "<style scoped>\n",
              "    .dataframe tbody tr th:only-of-type {\n",
              "        vertical-align: middle;\n",
              "    }\n",
              "\n",
              "    .dataframe tbody tr th {\n",
              "        vertical-align: top;\n",
              "    }\n",
              "\n",
              "    .dataframe thead th {\n",
              "        text-align: right;\n",
              "    }\n",
              "</style>\n",
              "<table border=\"1\" class=\"dataframe\">\n",
              "  <thead>\n",
              "    <tr style=\"text-align: right;\">\n",
              "      <th></th>\n",
              "      <th>PassengerId</th>\n",
              "      <th>Survived</th>\n",
              "      <th>Pclass</th>\n",
              "      <th>Name</th>\n",
              "      <th>Sex</th>\n",
              "      <th>Age</th>\n",
              "      <th>SibSp</th>\n",
              "      <th>Parch</th>\n",
              "      <th>Ticket</th>\n",
              "      <th>Fare</th>\n",
              "      <th>Cabin</th>\n",
              "      <th>Embarked</th>\n",
              "    </tr>\n",
              "  </thead>\n",
              "  <tbody>\n",
              "    <tr>\n",
              "      <th>0</th>\n",
              "      <td>1</td>\n",
              "      <td>0</td>\n",
              "      <td>3</td>\n",
              "      <td>Braund, Mr. Owen Harris</td>\n",
              "      <td>male</td>\n",
              "      <td>22.0</td>\n",
              "      <td>1</td>\n",
              "      <td>0</td>\n",
              "      <td>A/5 21171</td>\n",
              "      <td>7.2500</td>\n",
              "      <td>NaN</td>\n",
              "      <td>S</td>\n",
              "    </tr>\n",
              "    <tr>\n",
              "      <th>1</th>\n",
              "      <td>2</td>\n",
              "      <td>1</td>\n",
              "      <td>1</td>\n",
              "      <td>Cumings, Mrs. John Bradley (Florence Briggs Th...</td>\n",
              "      <td>female</td>\n",
              "      <td>38.0</td>\n",
              "      <td>1</td>\n",
              "      <td>0</td>\n",
              "      <td>PC 17599</td>\n",
              "      <td>71.2833</td>\n",
              "      <td>C85</td>\n",
              "      <td>C</td>\n",
              "    </tr>\n",
              "    <tr>\n",
              "      <th>2</th>\n",
              "      <td>3</td>\n",
              "      <td>1</td>\n",
              "      <td>3</td>\n",
              "      <td>Heikkinen, Miss. Laina</td>\n",
              "      <td>female</td>\n",
              "      <td>26.0</td>\n",
              "      <td>0</td>\n",
              "      <td>0</td>\n",
              "      <td>STON/O2. 3101282</td>\n",
              "      <td>7.9250</td>\n",
              "      <td>NaN</td>\n",
              "      <td>S</td>\n",
              "    </tr>\n",
              "    <tr>\n",
              "      <th>3</th>\n",
              "      <td>4</td>\n",
              "      <td>1</td>\n",
              "      <td>1</td>\n",
              "      <td>Futrelle, Mrs. Jacques Heath (Lily May Peel)</td>\n",
              "      <td>female</td>\n",
              "      <td>35.0</td>\n",
              "      <td>1</td>\n",
              "      <td>0</td>\n",
              "      <td>113803</td>\n",
              "      <td>53.1000</td>\n",
              "      <td>C123</td>\n",
              "      <td>S</td>\n",
              "    </tr>\n",
              "    <tr>\n",
              "      <th>4</th>\n",
              "      <td>5</td>\n",
              "      <td>0</td>\n",
              "      <td>3</td>\n",
              "      <td>Allen, Mr. William Henry</td>\n",
              "      <td>male</td>\n",
              "      <td>35.0</td>\n",
              "      <td>0</td>\n",
              "      <td>0</td>\n",
              "      <td>373450</td>\n",
              "      <td>8.0500</td>\n",
              "      <td>NaN</td>\n",
              "      <td>S</td>\n",
              "    </tr>\n",
              "  </tbody>\n",
              "</table>\n",
              "</div>\n",
              "      <button class=\"colab-df-convert\" onclick=\"convertToInteractive('df-5aaf6272-1492-4329-a87d-fdaac8356873')\"\n",
              "              title=\"Convert this dataframe to an interactive table.\"\n",
              "              style=\"display:none;\">\n",
              "        \n",
              "  <svg xmlns=\"http://www.w3.org/2000/svg\" height=\"24px\"viewBox=\"0 0 24 24\"\n",
              "       width=\"24px\">\n",
              "    <path d=\"M0 0h24v24H0V0z\" fill=\"none\"/>\n",
              "    <path d=\"M18.56 5.44l.94 2.06.94-2.06 2.06-.94-2.06-.94-.94-2.06-.94 2.06-2.06.94zm-11 1L8.5 8.5l.94-2.06 2.06-.94-2.06-.94L8.5 2.5l-.94 2.06-2.06.94zm10 10l.94 2.06.94-2.06 2.06-.94-2.06-.94-.94-2.06-.94 2.06-2.06.94z\"/><path d=\"M17.41 7.96l-1.37-1.37c-.4-.4-.92-.59-1.43-.59-.52 0-1.04.2-1.43.59L10.3 9.45l-7.72 7.72c-.78.78-.78 2.05 0 2.83L4 21.41c.39.39.9.59 1.41.59.51 0 1.02-.2 1.41-.59l7.78-7.78 2.81-2.81c.8-.78.8-2.07 0-2.86zM5.41 20L4 18.59l7.72-7.72 1.47 1.35L5.41 20z\"/>\n",
              "  </svg>\n",
              "      </button>\n",
              "      \n",
              "  <style>\n",
              "    .colab-df-container {\n",
              "      display:flex;\n",
              "      flex-wrap:wrap;\n",
              "      gap: 12px;\n",
              "    }\n",
              "\n",
              "    .colab-df-convert {\n",
              "      background-color: #E8F0FE;\n",
              "      border: none;\n",
              "      border-radius: 50%;\n",
              "      cursor: pointer;\n",
              "      display: none;\n",
              "      fill: #1967D2;\n",
              "      height: 32px;\n",
              "      padding: 0 0 0 0;\n",
              "      width: 32px;\n",
              "    }\n",
              "\n",
              "    .colab-df-convert:hover {\n",
              "      background-color: #E2EBFA;\n",
              "      box-shadow: 0px 1px 2px rgba(60, 64, 67, 0.3), 0px 1px 3px 1px rgba(60, 64, 67, 0.15);\n",
              "      fill: #174EA6;\n",
              "    }\n",
              "\n",
              "    [theme=dark] .colab-df-convert {\n",
              "      background-color: #3B4455;\n",
              "      fill: #D2E3FC;\n",
              "    }\n",
              "\n",
              "    [theme=dark] .colab-df-convert:hover {\n",
              "      background-color: #434B5C;\n",
              "      box-shadow: 0px 1px 3px 1px rgba(0, 0, 0, 0.15);\n",
              "      filter: drop-shadow(0px 1px 2px rgba(0, 0, 0, 0.3));\n",
              "      fill: #FFFFFF;\n",
              "    }\n",
              "  </style>\n",
              "\n",
              "      <script>\n",
              "        const buttonEl =\n",
              "          document.querySelector('#df-5aaf6272-1492-4329-a87d-fdaac8356873 button.colab-df-convert');\n",
              "        buttonEl.style.display =\n",
              "          google.colab.kernel.accessAllowed ? 'block' : 'none';\n",
              "\n",
              "        async function convertToInteractive(key) {\n",
              "          const element = document.querySelector('#df-5aaf6272-1492-4329-a87d-fdaac8356873');\n",
              "          const dataTable =\n",
              "            await google.colab.kernel.invokeFunction('convertToInteractive',\n",
              "                                                     [key], {});\n",
              "          if (!dataTable) return;\n",
              "\n",
              "          const docLinkHtml = 'Like what you see? Visit the ' +\n",
              "            '<a target=\"_blank\" href=https://colab.research.google.com/notebooks/data_table.ipynb>data table notebook</a>'\n",
              "            + ' to learn more about interactive tables.';\n",
              "          element.innerHTML = '';\n",
              "          dataTable['output_type'] = 'display_data';\n",
              "          await google.colab.output.renderOutput(dataTable, element);\n",
              "          const docLink = document.createElement('div');\n",
              "          docLink.innerHTML = docLinkHtml;\n",
              "          element.appendChild(docLink);\n",
              "        }\n",
              "      </script>\n",
              "    </div>\n",
              "  </div>\n",
              "  "
            ],
            "text/plain": [
              "   PassengerId  Survived  Pclass  ...     Fare Cabin  Embarked\n",
              "0            1         0       3  ...   7.2500   NaN         S\n",
              "1            2         1       1  ...  71.2833   C85         C\n",
              "2            3         1       3  ...   7.9250   NaN         S\n",
              "3            4         1       1  ...  53.1000  C123         S\n",
              "4            5         0       3  ...   8.0500   NaN         S\n",
              "\n",
              "[5 rows x 12 columns]"
            ]
          },
          "metadata": {},
          "execution_count": 143
        }
      ],
      "source": [
        "Treino = pd.read_csv(\"/content/drive/Shareddrives/Mecdata/Titanic/train.csv\")\n",
        "Treino.head()"
      ]
    },
    {
      "cell_type": "markdown",
      "source": [
        "*O teste vamos averiguar se o modelo tá certo:*"
      ],
      "metadata": {
        "id": "MnkS4wZQQmtX"
      }
    },
    {
      "cell_type": "code",
      "source": [
        "Teste = pd.read_csv(\"/content/drive/Shareddrives/Mecdata/Titanic/test.csv\")\n",
        "Teste.head()"
      ],
      "metadata": {
        "colab": {
          "base_uri": "https://localhost:8080/",
          "height": 206
        },
        "id": "FwUoUhjOMtS6",
        "outputId": "60ea5630-3ec6-4f18-ecca-7c1a29d78497"
      },
      "execution_count": null,
      "outputs": [
        {
          "output_type": "execute_result",
          "data": {
            "text/html": [
              "\n",
              "  <div id=\"df-44801816-7f37-4b1c-943e-6108e73017aa\">\n",
              "    <div class=\"colab-df-container\">\n",
              "      <div>\n",
              "<style scoped>\n",
              "    .dataframe tbody tr th:only-of-type {\n",
              "        vertical-align: middle;\n",
              "    }\n",
              "\n",
              "    .dataframe tbody tr th {\n",
              "        vertical-align: top;\n",
              "    }\n",
              "\n",
              "    .dataframe thead th {\n",
              "        text-align: right;\n",
              "    }\n",
              "</style>\n",
              "<table border=\"1\" class=\"dataframe\">\n",
              "  <thead>\n",
              "    <tr style=\"text-align: right;\">\n",
              "      <th></th>\n",
              "      <th>PassengerId</th>\n",
              "      <th>Pclass</th>\n",
              "      <th>Name</th>\n",
              "      <th>Sex</th>\n",
              "      <th>Age</th>\n",
              "      <th>SibSp</th>\n",
              "      <th>Parch</th>\n",
              "      <th>Ticket</th>\n",
              "      <th>Fare</th>\n",
              "      <th>Cabin</th>\n",
              "      <th>Embarked</th>\n",
              "    </tr>\n",
              "  </thead>\n",
              "  <tbody>\n",
              "    <tr>\n",
              "      <th>0</th>\n",
              "      <td>892</td>\n",
              "      <td>3</td>\n",
              "      <td>Kelly, Mr. James</td>\n",
              "      <td>male</td>\n",
              "      <td>34.5</td>\n",
              "      <td>0</td>\n",
              "      <td>0</td>\n",
              "      <td>330911</td>\n",
              "      <td>7.8292</td>\n",
              "      <td>NaN</td>\n",
              "      <td>Q</td>\n",
              "    </tr>\n",
              "    <tr>\n",
              "      <th>1</th>\n",
              "      <td>893</td>\n",
              "      <td>3</td>\n",
              "      <td>Wilkes, Mrs. James (Ellen Needs)</td>\n",
              "      <td>female</td>\n",
              "      <td>47.0</td>\n",
              "      <td>1</td>\n",
              "      <td>0</td>\n",
              "      <td>363272</td>\n",
              "      <td>7.0000</td>\n",
              "      <td>NaN</td>\n",
              "      <td>S</td>\n",
              "    </tr>\n",
              "    <tr>\n",
              "      <th>2</th>\n",
              "      <td>894</td>\n",
              "      <td>2</td>\n",
              "      <td>Myles, Mr. Thomas Francis</td>\n",
              "      <td>male</td>\n",
              "      <td>62.0</td>\n",
              "      <td>0</td>\n",
              "      <td>0</td>\n",
              "      <td>240276</td>\n",
              "      <td>9.6875</td>\n",
              "      <td>NaN</td>\n",
              "      <td>Q</td>\n",
              "    </tr>\n",
              "    <tr>\n",
              "      <th>3</th>\n",
              "      <td>895</td>\n",
              "      <td>3</td>\n",
              "      <td>Wirz, Mr. Albert</td>\n",
              "      <td>male</td>\n",
              "      <td>27.0</td>\n",
              "      <td>0</td>\n",
              "      <td>0</td>\n",
              "      <td>315154</td>\n",
              "      <td>8.6625</td>\n",
              "      <td>NaN</td>\n",
              "      <td>S</td>\n",
              "    </tr>\n",
              "    <tr>\n",
              "      <th>4</th>\n",
              "      <td>896</td>\n",
              "      <td>3</td>\n",
              "      <td>Hirvonen, Mrs. Alexander (Helga E Lindqvist)</td>\n",
              "      <td>female</td>\n",
              "      <td>22.0</td>\n",
              "      <td>1</td>\n",
              "      <td>1</td>\n",
              "      <td>3101298</td>\n",
              "      <td>12.2875</td>\n",
              "      <td>NaN</td>\n",
              "      <td>S</td>\n",
              "    </tr>\n",
              "  </tbody>\n",
              "</table>\n",
              "</div>\n",
              "      <button class=\"colab-df-convert\" onclick=\"convertToInteractive('df-44801816-7f37-4b1c-943e-6108e73017aa')\"\n",
              "              title=\"Convert this dataframe to an interactive table.\"\n",
              "              style=\"display:none;\">\n",
              "        \n",
              "  <svg xmlns=\"http://www.w3.org/2000/svg\" height=\"24px\"viewBox=\"0 0 24 24\"\n",
              "       width=\"24px\">\n",
              "    <path d=\"M0 0h24v24H0V0z\" fill=\"none\"/>\n",
              "    <path d=\"M18.56 5.44l.94 2.06.94-2.06 2.06-.94-2.06-.94-.94-2.06-.94 2.06-2.06.94zm-11 1L8.5 8.5l.94-2.06 2.06-.94-2.06-.94L8.5 2.5l-.94 2.06-2.06.94zm10 10l.94 2.06.94-2.06 2.06-.94-2.06-.94-.94-2.06-.94 2.06-2.06.94z\"/><path d=\"M17.41 7.96l-1.37-1.37c-.4-.4-.92-.59-1.43-.59-.52 0-1.04.2-1.43.59L10.3 9.45l-7.72 7.72c-.78.78-.78 2.05 0 2.83L4 21.41c.39.39.9.59 1.41.59.51 0 1.02-.2 1.41-.59l7.78-7.78 2.81-2.81c.8-.78.8-2.07 0-2.86zM5.41 20L4 18.59l7.72-7.72 1.47 1.35L5.41 20z\"/>\n",
              "  </svg>\n",
              "      </button>\n",
              "      \n",
              "  <style>\n",
              "    .colab-df-container {\n",
              "      display:flex;\n",
              "      flex-wrap:wrap;\n",
              "      gap: 12px;\n",
              "    }\n",
              "\n",
              "    .colab-df-convert {\n",
              "      background-color: #E8F0FE;\n",
              "      border: none;\n",
              "      border-radius: 50%;\n",
              "      cursor: pointer;\n",
              "      display: none;\n",
              "      fill: #1967D2;\n",
              "      height: 32px;\n",
              "      padding: 0 0 0 0;\n",
              "      width: 32px;\n",
              "    }\n",
              "\n",
              "    .colab-df-convert:hover {\n",
              "      background-color: #E2EBFA;\n",
              "      box-shadow: 0px 1px 2px rgba(60, 64, 67, 0.3), 0px 1px 3px 1px rgba(60, 64, 67, 0.15);\n",
              "      fill: #174EA6;\n",
              "    }\n",
              "\n",
              "    [theme=dark] .colab-df-convert {\n",
              "      background-color: #3B4455;\n",
              "      fill: #D2E3FC;\n",
              "    }\n",
              "\n",
              "    [theme=dark] .colab-df-convert:hover {\n",
              "      background-color: #434B5C;\n",
              "      box-shadow: 0px 1px 3px 1px rgba(0, 0, 0, 0.15);\n",
              "      filter: drop-shadow(0px 1px 2px rgba(0, 0, 0, 0.3));\n",
              "      fill: #FFFFFF;\n",
              "    }\n",
              "  </style>\n",
              "\n",
              "      <script>\n",
              "        const buttonEl =\n",
              "          document.querySelector('#df-44801816-7f37-4b1c-943e-6108e73017aa button.colab-df-convert');\n",
              "        buttonEl.style.display =\n",
              "          google.colab.kernel.accessAllowed ? 'block' : 'none';\n",
              "\n",
              "        async function convertToInteractive(key) {\n",
              "          const element = document.querySelector('#df-44801816-7f37-4b1c-943e-6108e73017aa');\n",
              "          const dataTable =\n",
              "            await google.colab.kernel.invokeFunction('convertToInteractive',\n",
              "                                                     [key], {});\n",
              "          if (!dataTable) return;\n",
              "\n",
              "          const docLinkHtml = 'Like what you see? Visit the ' +\n",
              "            '<a target=\"_blank\" href=https://colab.research.google.com/notebooks/data_table.ipynb>data table notebook</a>'\n",
              "            + ' to learn more about interactive tables.';\n",
              "          element.innerHTML = '';\n",
              "          dataTable['output_type'] = 'display_data';\n",
              "          await google.colab.output.renderOutput(dataTable, element);\n",
              "          const docLink = document.createElement('div');\n",
              "          docLink.innerHTML = docLinkHtml;\n",
              "          element.appendChild(docLink);\n",
              "        }\n",
              "      </script>\n",
              "    </div>\n",
              "  </div>\n",
              "  "
            ],
            "text/plain": [
              "   PassengerId  Pclass  ... Cabin Embarked\n",
              "0          892       3  ...   NaN        Q\n",
              "1          893       3  ...   NaN        S\n",
              "2          894       2  ...   NaN        Q\n",
              "3          895       3  ...   NaN        S\n",
              "4          896       3  ...   NaN        S\n",
              "\n",
              "[5 rows x 11 columns]"
            ]
          },
          "metadata": {},
          "execution_count": 144
        }
      ]
    },
    {
      "cell_type": "markdown",
      "source": [
        "![image.png](data:image/png;base64,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)"
      ],
      "metadata": {
        "id": "b4Mbp0ChVOgw"
      }
    },
    {
      "cell_type": "markdown",
      "source": [
        "**Variable Notes**\n",
        "\n",
        "\n",
        "---\n",
        "\n",
        "**Pclass:** A proxy for socio-economic status (SES)\n",
        "1st = Upper\n",
        "2nd = Middle\n",
        "3rd = Lower\n",
        "\n",
        "**Age:** Age is fractional if less than 1. If the age is estimated, is it in the form of xx.5\n",
        "\n",
        "\n",
        "---\n",
        "\n",
        "\n",
        "**SibSp:** The dataset defines family relations in this way...\n",
        "Sibling = brother, sister, stepbrother, stepsister\n",
        "Spouse = husband, wife (mistresses and fiancés were ignored)\n",
        "\n",
        "\n",
        "---\n",
        "\n",
        "\n",
        "**Parch:** The dataset defines family relations in this way...\n",
        "Parent = mother, father\n",
        "Child = daughter, son, stepdaughter, stepson\n",
        "Some children travelled only with a nanny, therefore parch=0 for them."
      ],
      "metadata": {
        "id": "HcMsjWgGUo2U"
      }
    },
    {
      "cell_type": "markdown",
      "source": [
        "*Criamos* o **Df_BDP** (Boi De Piranha) para realizar os testes iniciais na no nosso dataset.\n",
        "\n",
        "*Obs: o boi de piranha é aquele que se submete ou é submetido a um sacrifício para livrar outra pessoa de uma dificuldade ou da culpa. No Mato Grosso, quando os boiadeiros passam por um rio perigoso, eles escolhem um boi mais doente para entrar no rio primeiro e ser comido pelas piranhas, para assim outros bois conseguirem passar com segurança.*"
      ],
      "metadata": {
        "id": "hDbBdgKLau_u"
      }
    },
    {
      "cell_type": "code",
      "source": [
        "#Refatoração: renomenclatura de variável -> Df_BDP e remoção de Warning usando .copy() <- Kuga\n",
        "\n",
        "Nomes = [\"Survived\", \"Pclass\", \"Age\", \"Parch\", \"Sex\"]\n",
        "Nomes2 = [\"Pclass\", \"Age\", \"Parch\", \"Sex\"]\n",
        "Df_BDP = Treino[Nomes].copy()\n",
        "Df_BDP['Sex'] = Treino['Sex'].map({'male': 0,'female': 1})\n",
        "\n",
        "Teste_tAPP = Teste[Nomes2].copy() #Teste para aplicação\n",
        "Teste_tAPP['Sex'] = Teste_tAPP['Sex'].map({'male': 0,'female': 1})\n"
      ],
      "metadata": {
        "id": "Hc3l_o52OGRo"
      },
      "execution_count": null,
      "outputs": []
    },
    {
      "cell_type": "code",
      "source": [
        "Df_BDP['Age'].fillna(Df_BDP['Age'].mean(), inplace = True)\n",
        "Teste_tAPP['Age'].fillna(Teste_tAPP['Age'].mean(), inplace = True)"
      ],
      "metadata": {
        "id": "bw31OuqziAq2"
      },
      "execution_count": null,
      "outputs": []
    },
    {
      "cell_type": "markdown",
      "source": [
        "**`Linear Regression with Scikit-Learn`**\n",
        "\n"
      ],
      "metadata": {
        "id": "uHJSRK6Gg7Fb"
      }
    },
    {
      "cell_type": "code",
      "source": [
        "#Teste_tAPP.isnull().sum()"
      ],
      "metadata": {
        "id": "TYZ6sG5CsgXF"
      },
      "execution_count": null,
      "outputs": []
    },
    {
      "cell_type": "code",
      "source": [
        "X = Df_BDP['Age'].values.reshape(-1,1)\n",
        "y = Df_BDP['Survived'].values\n",
        "\n",
        "from sklearn.linear_model import LinearRegression\n",
        "\n",
        "model = LinearRegression()\n",
        "model.fit(X, y)"
      ],
      "metadata": {
        "colab": {
          "base_uri": "https://localhost:8080/"
        },
        "id": "NzUBwggkg4RJ",
        "outputId": "20735720-56c8-4a4f-d6c6-b296d60dd6b5"
      },
      "execution_count": null,
      "outputs": [
        {
          "output_type": "execute_result",
          "data": {
            "text/plain": [
              "LinearRegression()"
            ]
          },
          "metadata": {},
          "execution_count": 148
        }
      ]
    },
    {
      "cell_type": "code",
      "source": [
        "plt.figure(figsize=(8,6));\n",
        "sns.regplot(X, y);\n",
        "plt.xlabel('Age')\n",
        "plt.ylabel(\"Survived\")\n",
        "plt.show();"
      ],
      "metadata": {
        "colab": {
          "base_uri": "https://localhost:8080/",
          "height": 443
        },
        "id": "hzz3_pwL7UhH",
        "outputId": "607c4613-1f9d-4fd1-f13a-143fb3700e83"
      },
      "execution_count": null,
      "outputs": [
        {
          "output_type": "stream",
          "name": "stderr",
          "text": [
            "/usr/local/lib/python3.7/dist-packages/seaborn/_decorators.py:43: FutureWarning: Pass the following variables as keyword args: x, y. From version 0.12, the only valid positional argument will be `data`, and passing other arguments without an explicit keyword will result in an error or misinterpretation.\n",
            "  FutureWarning\n"
          ]
        },
        {
          "output_type": "display_data",
          "data": {
            "image/png": "[encoded data removed]",
            "text/plain": [
              "<Figure size 576x432 with 1 Axes>"
            ]
          },
          "metadata": {
            "needs_background": "light"
          }
        }
      ]
    },
    {
      "cell_type": "code",
      "source": [
        "sns.jointplot(x='Age', y='Survived', data=Df_BDP, kind='reg', size=7);\n",
        "plt.show();"
      ],
      "metadata": {
        "colab": {
          "base_uri": "https://localhost:8080/",
          "height": 548
        },
        "id": "23qegryF-SgC",
        "outputId": "32acbc30-a9c4-4f57-eedf-4aa07a1168a5"
      },
      "execution_count": null,
      "outputs": [
        {
          "output_type": "stream",
          "name": "stderr",
          "text": [
            "/usr/local/lib/python3.7/dist-packages/seaborn/axisgrid.py:2182: UserWarning: The `size` parameter has been renamed to `height`; please update your code.\n",
            "  warnings.warn(msg, UserWarning)\n"
          ]
        },
        {
          "output_type": "display_data",
          "data": {
            "image/png": "[encoded data removed]",
            "text/plain": [
              "<Figure size 504x504 with 3 Axes>"
            ]
          },
          "metadata": {
            "needs_background": "light"
          }
        }
      ]
    },
    {
      "cell_type": "code",
      "source": [
        "X1 = Df_BDP['Pclass'].values.reshape(-1,1)\n",
        "y1 = Df_BDP['Survived'].values\n",
        "\n",
        "model1 = LinearRegression()\n",
        "model1.fit(X1, y1)"
      ],
      "metadata": {
        "colab": {
          "base_uri": "https://localhost:8080/"
        },
        "id": "_0ST6_1e8DlE",
        "outputId": "249abc47-2416-4aff-f470-eb8c3cc45631"
      },
      "execution_count": null,
      "outputs": [
        {
          "output_type": "execute_result",
          "data": {
            "text/plain": [
              "LinearRegression()"
            ]
          },
          "metadata": {},
          "execution_count": 151
        }
      ]
    },
    {
      "cell_type": "code",
      "source": [
        "plt.figure(figsize=(8,6));\n",
        "sns.regplot(X1, y1);\n",
        "plt.xlabel('Pclass')\n",
        "plt.ylabel(\"Survived\")\n",
        "plt.show();"
      ],
      "metadata": {
        "colab": {
          "base_uri": "https://localhost:8080/",
          "height": 443
        },
        "id": "c84bHrge8UrV",
        "outputId": "589ac812-166a-46f1-d35e-4bc459e8c5a7"
      },
      "execution_count": null,
      "outputs": [
        {
          "output_type": "stream",
          "name": "stderr",
          "text": [
            "/usr/local/lib/python3.7/dist-packages/seaborn/_decorators.py:43: FutureWarning: Pass the following variables as keyword args: x, y. From version 0.12, the only valid positional argument will be `data`, and passing other arguments without an explicit keyword will result in an error or misinterpretation.\n",
            "  FutureWarning\n"
          ]
        },
        {
          "output_type": "display_data",
          "data": {
            "image/png": "[encoded data removed]",
            "text/plain": [
              "<Figure size 576x432 with 1 Axes>"
            ]
          },
          "metadata": {
            "needs_background": "light"
          }
        }
      ]
    },
    {
      "cell_type": "code",
      "source": [
        "plt.figure(figsize=(9,6))\n",
        "sns.heatmap(Teste_tAPP.corr(), annot=True)\n",
        "plt.show()"
      ],
      "metadata": {
        "colab": {
          "base_uri": "https://localhost:8080/",
          "height": 378
        },
        "id": "msnqufBgv3kp",
        "outputId": "93efca21-c389-46d5-e60f-94d3b38ef8c4"
      },
      "execution_count": null,
      "outputs": [
        {
          "output_type": "display_data",
          "data": {
            "image/png": "[encoded data removed]",
            "text/plain": [
              "<Figure size 648x432 with 2 Axes>"
            ]
          },
          "metadata": {
            "needs_background": "light"
          }
        }
      ]
    },
    {
      "cell_type": "code",
      "source": [
        "NomesX = [\"Pclass\", \"Age\", \"Parch\", \"Sex\"]\n",
        "NomeY = \"Survived\"\n",
        "\n",
        "Treino_80 = Df_BDP.sample(frac=0.8, random_state=0) # 80% dos dados do boi_de_piranha\n",
        "\n",
        "Validacao = Df_BDP.drop(Treino_80.index) # 20% dos dados do boi_de_piranha\n",
        "\n",
        "X = Treino_80[NomesX]\n",
        "y = Treino_80[NomeY]\n",
        "\n",
        "X_teste = Validacao[NomesX]\n",
        "y_teste = Validacao[NomeY]\n",
        "\n",
        "ModeloFloresta = RandomForestClassifier(random_state=1)\n",
        "ModeloFloresta.fit(X, y)\n",
        "\n",
        "Predicao = ModeloFloresta.predict(X_teste)\n",
        "print(accuracy_score(y_teste, Predicao))"
      ],
      "metadata": {
        "id": "sy5vF1KIjyFe",
        "colab": {
          "base_uri": "https://localhost:8080/"
        },
        "outputId": "24fe41e3-e5d2-4cd2-e94e-45ef8d99740b"
      },
      "execution_count": null,
      "outputs": [
        {
          "output_type": "stream",
          "name": "stdout",
          "text": [
            "0.8258426966292135\n"
          ]
        }
      ]
    },
    {
      "cell_type": "markdown",
      "source": [
        "Agora que nós testamos com 80% dos dados, vamos usar 100% para aumentar a precisão e finalizar a competição do Kaggle ✌"
      ],
      "metadata": {
        "id": "iPvUBboSEuCl"
      }
    },
    {
      "cell_type": "code",
      "source": [
        "X1 = Df_BDP[NomesX]\n",
        "y1 = Df_BDP[NomeY]\n",
        "\n",
        "ModeloFloresta = RandomForestClassifier(random_state=1)\n",
        "ModeloFloresta.fit(X1, y1)"
      ],
      "metadata": {
        "id": "BNsQcaDM59ck",
        "colab": {
          "base_uri": "https://localhost:8080/"
        },
        "outputId": "1fd5c97a-580b-47b7-92d9-f80576544493"
      },
      "execution_count": null,
      "outputs": [
        {
          "output_type": "execute_result",
          "data": {
            "text/plain": [
              "RandomForestClassifier(random_state=1)"
            ]
          },
          "metadata": {},
          "execution_count": 155
        }
      ]
    },
    {
      "cell_type": "code",
      "source": [
        "Predicao1 = ModeloFloresta.predict(Teste_tAPP)\n",
        "\n",
        "Resultado = pd.DataFrame(Predicao1,columns=[\"Survived\"])\n",
        "Resultado.head()\n",
        "\n",
        "\n",
        "\n",
        "Resultado.reset_index(inplace=True)\n",
        "Resultado = Resultado.rename(columns = {'index':'PassengerId'})\n",
        "Resultado[\"PassengerId\"] =Resultado[\"PassengerId\"]+892\n",
        "\n",
        "Resultado.to_csv(\"/content/drive/Shareddrives/Mecdata/Titanic/saida.csv\",index=False)"
      ],
      "metadata": {
        "id": "zzH-oFs9GLsg"
      },
      "execution_count": 134,
      "outputs": []
    }
  ]
}